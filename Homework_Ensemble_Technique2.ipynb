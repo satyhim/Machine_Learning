{
  "nbformat": 4,
  "nbformat_minor": 0,
  "metadata": {
    "colab": {
      "name": "Untitled73.ipynb",
      "provenance": [],
      "mount_file_id": "1RobYIU45S9Bd6Zwt9NB8wKBrayKA0Sp3",
      "authorship_tag": "ABX9TyMe+ODeCLP2bMjfOc0o2TUO",
      "include_colab_link": true
    },
    "kernelspec": {
      "name": "python3",
      "display_name": "Python 3"
    },
    "language_info": {
      "name": "python"
    }
  },
  "cells": [
    {
      "cell_type": "markdown",
      "metadata": {
        "id": "view-in-github",
        "colab_type": "text"
      },
      "source": [
        "<a href=\"https://colab.research.google.com/github/satyhim/Machine_Learning/blob/main/Homework_Ensemble_Technique2.ipynb\" target=\"_parent\"><img src=\"https://colab.research.google.com/assets/colab-badge.svg\" alt=\"Open In Colab\"/></a>"
      ]
    },
    {
      "cell_type": "code",
      "execution_count": 93,
      "metadata": {
        "id": "tekQwggLU1r9"
      },
      "outputs": [],
      "source": [
        "import numpy as np\n",
        "import pandas as pd\n",
        "from sklearn.metrics import confusion_matrix\n",
        "from sklearn.model_selection import train_test_split\n",
        "from sklearn.tree import DecisionTreeClassifier\n",
        "from sklearn.metrics import accuracy_score\n",
        "from sklearn.metrics import classification_report\n",
        "from sklearn import tree\n",
        "import matplotlib.pyplot as plt\n",
        "%matplotlib inline"
      ]
    },
    {
      "cell_type": "code",
      "source": [
        "df= pd.read_excel('/content/drive/MyDrive/Python/Project/seeds_dataset.xlsx')"
      ],
      "metadata": {
        "id": "G8740OrNVLeT"
      },
      "execution_count": 94,
      "outputs": []
    },
    {
      "cell_type": "code",
      "source": [
        "df.head()"
      ],
      "metadata": {
        "colab": {
          "base_uri": "https://localhost:8080/",
          "height": 206
        },
        "id": "L8kwGm2jVVBG",
        "outputId": "7885b287-50b1-4ac3-b33f-ae97a7a04d48"
      },
      "execution_count": 95,
      "outputs": [
        {
          "output_type": "execute_result",
          "data": {
            "text/plain": [
              "    Area  Perimeter  Compactness  Length of Kernel  Width of Kernel  \\\n",
              "0  15.26      14.84       0.8710             5.763            3.312   \n",
              "1  14.88      14.57       0.8811             5.554            3.333   \n",
              "2  14.29      14.09       0.9050             5.291            3.337   \n",
              "3  13.84      13.94       0.8955             5.324            3.379   \n",
              "4  16.14      14.99       0.9034             5.658            3.562   \n",
              "\n",
              "   Asymmetry coefficient  Length of kernel groove  Class (1_2_3  \n",
              "0                  2.221                    5.220             1  \n",
              "1                  1.018                    4.956             1  \n",
              "2                  2.699                    4.825             1  \n",
              "3                  2.259                    4.805             1  \n",
              "4                  1.355                    5.175             1  "
            ],
            "text/html": [
              "\n",
              "  <div id=\"df-2dc20149-08d2-4f2a-8619-85cb54709fbe\">\n",
              "    <div class=\"colab-df-container\">\n",
              "      <div>\n",
              "<style scoped>\n",
              "    .dataframe tbody tr th:only-of-type {\n",
              "        vertical-align: middle;\n",
              "    }\n",
              "\n",
              "    .dataframe tbody tr th {\n",
              "        vertical-align: top;\n",
              "    }\n",
              "\n",
              "    .dataframe thead th {\n",
              "        text-align: right;\n",
              "    }\n",
              "</style>\n",
              "<table border=\"1\" class=\"dataframe\">\n",
              "  <thead>\n",
              "    <tr style=\"text-align: right;\">\n",
              "      <th></th>\n",
              "      <th>Area</th>\n",
              "      <th>Perimeter</th>\n",
              "      <th>Compactness</th>\n",
              "      <th>Length of Kernel</th>\n",
              "      <th>Width of Kernel</th>\n",
              "      <th>Asymmetry coefficient</th>\n",
              "      <th>Length of kernel groove</th>\n",
              "      <th>Class (1_2_3</th>\n",
              "    </tr>\n",
              "  </thead>\n",
              "  <tbody>\n",
              "    <tr>\n",
              "      <th>0</th>\n",
              "      <td>15.26</td>\n",
              "      <td>14.84</td>\n",
              "      <td>0.8710</td>\n",
              "      <td>5.763</td>\n",
              "      <td>3.312</td>\n",
              "      <td>2.221</td>\n",
              "      <td>5.220</td>\n",
              "      <td>1</td>\n",
              "    </tr>\n",
              "    <tr>\n",
              "      <th>1</th>\n",
              "      <td>14.88</td>\n",
              "      <td>14.57</td>\n",
              "      <td>0.8811</td>\n",
              "      <td>5.554</td>\n",
              "      <td>3.333</td>\n",
              "      <td>1.018</td>\n",
              "      <td>4.956</td>\n",
              "      <td>1</td>\n",
              "    </tr>\n",
              "    <tr>\n",
              "      <th>2</th>\n",
              "      <td>14.29</td>\n",
              "      <td>14.09</td>\n",
              "      <td>0.9050</td>\n",
              "      <td>5.291</td>\n",
              "      <td>3.337</td>\n",
              "      <td>2.699</td>\n",
              "      <td>4.825</td>\n",
              "      <td>1</td>\n",
              "    </tr>\n",
              "    <tr>\n",
              "      <th>3</th>\n",
              "      <td>13.84</td>\n",
              "      <td>13.94</td>\n",
              "      <td>0.8955</td>\n",
              "      <td>5.324</td>\n",
              "      <td>3.379</td>\n",
              "      <td>2.259</td>\n",
              "      <td>4.805</td>\n",
              "      <td>1</td>\n",
              "    </tr>\n",
              "    <tr>\n",
              "      <th>4</th>\n",
              "      <td>16.14</td>\n",
              "      <td>14.99</td>\n",
              "      <td>0.9034</td>\n",
              "      <td>5.658</td>\n",
              "      <td>3.562</td>\n",
              "      <td>1.355</td>\n",
              "      <td>5.175</td>\n",
              "      <td>1</td>\n",
              "    </tr>\n",
              "  </tbody>\n",
              "</table>\n",
              "</div>\n",
              "      <button class=\"colab-df-convert\" onclick=\"convertToInteractive('df-2dc20149-08d2-4f2a-8619-85cb54709fbe')\"\n",
              "              title=\"Convert this dataframe to an interactive table.\"\n",
              "              style=\"display:none;\">\n",
              "        \n",
              "  <svg xmlns=\"http://www.w3.org/2000/svg\" height=\"24px\"viewBox=\"0 0 24 24\"\n",
              "       width=\"24px\">\n",
              "    <path d=\"M0 0h24v24H0V0z\" fill=\"none\"/>\n",
              "    <path d=\"M18.56 5.44l.94 2.06.94-2.06 2.06-.94-2.06-.94-.94-2.06-.94 2.06-2.06.94zm-11 1L8.5 8.5l.94-2.06 2.06-.94-2.06-.94L8.5 2.5l-.94 2.06-2.06.94zm10 10l.94 2.06.94-2.06 2.06-.94-2.06-.94-.94-2.06-.94 2.06-2.06.94z\"/><path d=\"M17.41 7.96l-1.37-1.37c-.4-.4-.92-.59-1.43-.59-.52 0-1.04.2-1.43.59L10.3 9.45l-7.72 7.72c-.78.78-.78 2.05 0 2.83L4 21.41c.39.39.9.59 1.41.59.51 0 1.02-.2 1.41-.59l7.78-7.78 2.81-2.81c.8-.78.8-2.07 0-2.86zM5.41 20L4 18.59l7.72-7.72 1.47 1.35L5.41 20z\"/>\n",
              "  </svg>\n",
              "      </button>\n",
              "      \n",
              "  <style>\n",
              "    .colab-df-container {\n",
              "      display:flex;\n",
              "      flex-wrap:wrap;\n",
              "      gap: 12px;\n",
              "    }\n",
              "\n",
              "    .colab-df-convert {\n",
              "      background-color: #E8F0FE;\n",
              "      border: none;\n",
              "      border-radius: 50%;\n",
              "      cursor: pointer;\n",
              "      display: none;\n",
              "      fill: #1967D2;\n",
              "      height: 32px;\n",
              "      padding: 0 0 0 0;\n",
              "      width: 32px;\n",
              "    }\n",
              "\n",
              "    .colab-df-convert:hover {\n",
              "      background-color: #E2EBFA;\n",
              "      box-shadow: 0px 1px 2px rgba(60, 64, 67, 0.3), 0px 1px 3px 1px rgba(60, 64, 67, 0.15);\n",
              "      fill: #174EA6;\n",
              "    }\n",
              "\n",
              "    [theme=dark] .colab-df-convert {\n",
              "      background-color: #3B4455;\n",
              "      fill: #D2E3FC;\n",
              "    }\n",
              "\n",
              "    [theme=dark] .colab-df-convert:hover {\n",
              "      background-color: #434B5C;\n",
              "      box-shadow: 0px 1px 3px 1px rgba(0, 0, 0, 0.15);\n",
              "      filter: drop-shadow(0px 1px 2px rgba(0, 0, 0, 0.3));\n",
              "      fill: #FFFFFF;\n",
              "    }\n",
              "  </style>\n",
              "\n",
              "      <script>\n",
              "        const buttonEl =\n",
              "          document.querySelector('#df-2dc20149-08d2-4f2a-8619-85cb54709fbe button.colab-df-convert');\n",
              "        buttonEl.style.display =\n",
              "          google.colab.kernel.accessAllowed ? 'block' : 'none';\n",
              "\n",
              "        async function convertToInteractive(key) {\n",
              "          const element = document.querySelector('#df-2dc20149-08d2-4f2a-8619-85cb54709fbe');\n",
              "          const dataTable =\n",
              "            await google.colab.kernel.invokeFunction('convertToInteractive',\n",
              "                                                     [key], {});\n",
              "          if (!dataTable) return;\n",
              "\n",
              "          const docLinkHtml = 'Like what you see? Visit the ' +\n",
              "            '<a target=\"_blank\" href=https://colab.research.google.com/notebooks/data_table.ipynb>data table notebook</a>'\n",
              "            + ' to learn more about interactive tables.';\n",
              "          element.innerHTML = '';\n",
              "          dataTable['output_type'] = 'display_data';\n",
              "          await google.colab.output.renderOutput(dataTable, element);\n",
              "          const docLink = document.createElement('div');\n",
              "          docLink.innerHTML = docLinkHtml;\n",
              "          element.appendChild(docLink);\n",
              "        }\n",
              "      </script>\n",
              "    </div>\n",
              "  </div>\n",
              "  "
            ]
          },
          "metadata": {},
          "execution_count": 95
        }
      ]
    },
    {
      "cell_type": "code",
      "source": [
        "# importing libraries\n",
        "from sklearn.ensemble import VotingClassifier\n",
        "from sklearn.linear_model import LogisticRegression\n",
        "from sklearn.tree import DecisionTreeClassifier\n",
        "from sklearn.metrics import accuracy_score\n",
        "from sklearn.model_selection import train_test_split"
      ],
      "metadata": {
        "id": "kHFegpxCVsfJ"
      },
      "execution_count": 96,
      "outputs": []
    },
    {
      "cell_type": "code",
      "source": [
        "X = df.drop(['Class (1_2_3'], axis=1)\n",
        "\n",
        "y = df['Class (1_2_3']"
      ],
      "metadata": {
        "id": "L7-2XEEWV91n"
      },
      "execution_count": 97,
      "outputs": []
    },
    {
      "cell_type": "code",
      "source": [
        "from sklearn.model_selection import train_test_split\n",
        "X_train, X_test, y_train, y_test = train_test_split(X, y, test_size = 0.3, random_state = 100)\n",
        "\t"
      ],
      "metadata": {
        "id": "8YMRd1iPWrwL"
      },
      "execution_count": 98,
      "outputs": []
    },
    {
      "cell_type": "code",
      "source": [
        "clf_gini = DecisionTreeClassifier(criterion = \"gini\",\n",
        "\t\t\trandom_state = 100,max_depth=3, min_samples_leaf=5)"
      ],
      "metadata": {
        "id": "jTGXpuuucLBh"
      },
      "execution_count": 99,
      "outputs": []
    },
    {
      "cell_type": "code",
      "source": [
        "clf_gini.fit(X_train, y_train)\n",
        "clf_gini"
      ],
      "metadata": {
        "colab": {
          "base_uri": "https://localhost:8080/"
        },
        "id": "ta2N2-SQcYqC",
        "outputId": "e65e34b7-e844-4fda-ba09-912561989a6b"
      },
      "execution_count": 100,
      "outputs": [
        {
          "output_type": "execute_result",
          "data": {
            "text/plain": [
              "DecisionTreeClassifier(max_depth=3, min_samples_leaf=5, random_state=100)"
            ]
          },
          "metadata": {},
          "execution_count": 100
        }
      ]
    },
    {
      "cell_type": "code",
      "source": [
        "y_pred = clf_gini.predict(X_test)\n",
        "y_pred"
      ],
      "metadata": {
        "colab": {
          "base_uri": "https://localhost:8080/"
        },
        "id": "KnXHhra9cgjg",
        "outputId": "553f8088-4c6d-4b7c-cead-c82c88d2e351"
      },
      "execution_count": 101,
      "outputs": [
        {
          "output_type": "execute_result",
          "data": {
            "text/plain": [
              "array([1, 3, 1, 3, 2, 1, 3, 2, 3, 3, 2, 2, 2, 1, 2, 1, 1, 2, 1, 3, 2, 2,\n",
              "       2, 2, 3, 1, 2, 1, 1, 1, 3, 1, 3, 3, 2, 3, 3, 3, 3, 2, 2, 1, 2, 2,\n",
              "       1, 3, 3, 1, 3, 2, 1, 3, 3, 3, 1, 3, 3, 1, 1, 2, 1, 2, 2])"
            ]
          },
          "metadata": {},
          "execution_count": 101
        }
      ]
    },
    {
      "cell_type": "code",
      "source": [
        "print (\"Accuracy : \",accuracy_score(y_test,y_pred)*100)"
      ],
      "metadata": {
        "colab": {
          "base_uri": "https://localhost:8080/"
        },
        "id": "H6x7cGpdc5DJ",
        "outputId": "dd833d8c-c464-4d93-d18b-fdea6f990d4f"
      },
      "execution_count": 102,
      "outputs": [
        {
          "output_type": "stream",
          "name": "stdout",
          "text": [
            "Accuracy :  90.47619047619048\n"
          ]
        }
      ]
    },
    {
      "cell_type": "code",
      "source": [
        ""
      ],
      "metadata": {
        "id": "DCgOaJOPdGWo"
      },
      "execution_count": 102,
      "outputs": []
    },
    {
      "cell_type": "markdown",
      "source": [
        "#Simple Ensemble Techniques\n",
        "\n",
        "In this section, we will look at a few simple but powerful techniques, namely:\n",
        "\n",
        "1 Max Voting\n",
        "\n",
        "2 Averaging\n",
        "\n",
        "3 Weighted Averaging"
      ],
      "metadata": {
        "id": "6pY9P_2-ZRCO"
      }
    },
    {
      "cell_type": "markdown",
      "source": [
        "**1 Max Voting**"
      ],
      "metadata": {
        "id": "aob1Q9INZXtS"
      }
    },
    {
      "cell_type": "code",
      "source": [
        "from sklearn.ensemble import VotingClassifier\n",
        "model1 = LogisticRegression(random_state=1)\n",
        "model2 = tree.DecisionTreeClassifier(random_state=1)\n",
        "model = VotingClassifier(estimators=[('lr',model1), ('dt', model2)], voting='hard')\n",
        "model.fit(X_train,y_train)\n",
        "Md = model.score(X_test,y_test)\n",
        "print('Model_Score is :',Md)"
      ],
      "metadata": {
        "colab": {
          "base_uri": "https://localhost:8080/"
        },
        "id": "ssEP8APUZbe7",
        "outputId": "f3dbd902-e1f3-480c-c3ea-83139c20033f"
      },
      "execution_count": 103,
      "outputs": [
        {
          "output_type": "stream",
          "name": "stdout",
          "text": [
            "Model_Score is : 0.9523809523809523\n"
          ]
        },
        {
          "output_type": "stream",
          "name": "stderr",
          "text": [
            "/usr/local/lib/python3.7/dist-packages/sklearn/linear_model/_logistic.py:818: ConvergenceWarning: lbfgs failed to converge (status=1):\n",
            "STOP: TOTAL NO. of ITERATIONS REACHED LIMIT.\n",
            "\n",
            "Increase the number of iterations (max_iter) or scale the data as shown in:\n",
            "    https://scikit-learn.org/stable/modules/preprocessing.html\n",
            "Please also refer to the documentation for alternative solver options:\n",
            "    https://scikit-learn.org/stable/modules/linear_model.html#logistic-regression\n",
            "  extra_warning_msg=_LOGISTIC_SOLVER_CONVERGENCE_MSG,\n"
          ]
        }
      ]
    },
    {
      "cell_type": "markdown",
      "source": [
        "#Averaging"
      ],
      "metadata": {
        "id": "XiH-HdEVd6uy"
      }
    },
    {
      "cell_type": "code",
      "source": [
        "from sklearn.neighbors import KNeighborsClassifier\n",
        "model1 = tree.DecisionTreeClassifier()\n",
        "model2 = KNeighborsClassifier()\n",
        "model3 = LogisticRegression()\n",
        "\n",
        "model1.fit(X_train,y_train)\n",
        "model2.fit(X_train,y_train)\n",
        "model3.fit(X_train,y_train)\n",
        "\n",
        "pred1 = model1.predict_proba(X_test)\n",
        "pred2 = model2.predict_proba(X_test)\n",
        "pred3 = model3.predict_proba(X_test)\n",
        "\n",
        "finalpred = (pred1 + pred2 + pred3)/3\n",
        "print('The Finalpred is :\\n',finalpred)"
      ],
      "metadata": {
        "colab": {
          "base_uri": "https://localhost:8080/"
        },
        "id": "6o47YO82eAiR",
        "outputId": "df182987-6a68-488b-c216-d286b49a02f5"
      },
      "execution_count": 104,
      "outputs": [
        {
          "output_type": "stream",
          "name": "stdout",
          "text": [
            "The Finalpred is :\n",
            " [[6.73409320e-01 2.92955431e-04 3.26297725e-01]\n",
            " [1.03733763e-02 9.76937543e-06 9.89616854e-01]\n",
            " [4.45833160e-01 1.13847939e-04 5.54052992e-01]\n",
            " [2.53328655e-01 2.56441187e-04 7.46414904e-01]\n",
            " [1.61334886e-02 9.83866434e-01 7.72541855e-08]\n",
            " [8.60419057e-01 3.64292123e-04 1.39216651e-01]\n",
            " [3.25647229e-04 1.05131984e-06 9.99673301e-01]\n",
            " [9.37564809e-05 9.99906243e-01 3.39251438e-10]\n",
            " [1.47625888e-03 8.13749132e-07 9.98522927e-01]\n",
            " [3.33237394e-03 1.35299956e-05 9.96654096e-01]\n",
            " [8.27645574e-04 9.99172354e-01 4.73883791e-10]\n",
            " [1.75343242e-03 9.98246260e-01 3.07142329e-07]\n",
            " [4.96032520e-03 9.95039658e-01 1.68140539e-08]\n",
            " [9.82881138e-01 3.33651092e-03 1.37823510e-02]\n",
            " [3.16616810e-02 9.68117690e-01 2.20628648e-04]\n",
            " [8.00576074e-01 1.98613403e-01 8.10522501e-04]\n",
            " [2.21530773e-01 6.30009992e-04 7.77839217e-01]\n",
            " [2.92735895e-02 9.70713282e-01 1.31287724e-05]\n",
            " [8.53935786e-01 5.93496295e-04 1.45470718e-01]\n",
            " [1.23960432e-02 5.84287615e-05 9.87545528e-01]\n",
            " [1.48450492e-01 8.50610469e-01 9.39039674e-04]\n",
            " [3.10169022e-01 6.78345669e-01 1.14853092e-02]\n",
            " [3.83924499e-03 9.96160694e-01 6.06173266e-08]\n",
            " [1.47513589e-01 8.51704574e-01 7.81837450e-04]\n",
            " [6.34219105e-03 7.62483521e-06 9.93650184e-01]\n",
            " [3.60263002e-01 1.03198583e-03 6.38705012e-01]\n",
            " [8.13794630e-03 9.91861915e-01 1.38319634e-07]\n",
            " [4.93039771e-01 1.95039811e-03 5.05009831e-01]\n",
            " [9.94790714e-01 3.76351248e-03 1.44577361e-03]\n",
            " [9.81020203e-01 1.89131645e-02 6.66328656e-05]\n",
            " [1.52258154e-01 3.67266098e-04 8.47374580e-01]\n",
            " [9.75963621e-01 1.93357423e-02 4.70063717e-03]\n",
            " [1.44702736e-02 1.41605350e-04 9.85388121e-01]\n",
            " [4.19080309e-02 9.07576093e-05 9.58001211e-01]\n",
            " [3.55590534e-01 6.44409184e-01 2.82189011e-07]\n",
            " [2.33342810e-04 9.24172244e-07 9.99765733e-01]\n",
            " [1.29576121e-04 6.02758739e-07 9.99869821e-01]\n",
            " [2.43992572e-02 2.42033537e-04 9.75358709e-01]\n",
            " [9.23595758e-03 1.59623021e-05 9.90748080e-01]\n",
            " [2.58600179e-03 9.97413949e-01 4.92577512e-08]\n",
            " [2.05357018e-02 9.79463895e-01 4.03485067e-07]\n",
            " [9.95041201e-01 2.63906253e-03 2.31973627e-03]\n",
            " [2.11947301e-03 9.97880507e-01 1.95544916e-08]\n",
            " [2.43560100e-03 9.97564397e-01 1.55812858e-09]\n",
            " [9.44126779e-01 1.35228978e-02 4.23503235e-02]\n",
            " [6.22743938e-03 6.16157921e-06 9.93766399e-01]\n",
            " [8.11183401e-01 1.22071620e-03 1.87595883e-01]\n",
            " [2.65781962e-01 1.01286870e-03 7.33205169e-01]\n",
            " [1.47408159e-03 4.54423964e-06 9.98521374e-01]\n",
            " [1.71845127e-03 9.98281537e-01 1.21792316e-08]\n",
            " [9.35396992e-01 3.41429318e-02 3.04600761e-02]\n",
            " [1.27973244e-03 4.05761140e-06 9.98716210e-01]\n",
            " [1.18396137e-02 1.13849808e-05 9.88149001e-01]\n",
            " [1.13052674e-04 3.12966178e-07 9.99886634e-01]\n",
            " [9.89653728e-01 6.48313348e-03 3.86313824e-03]\n",
            " [1.15638828e-01 4.10203237e-04 8.83950969e-01]\n",
            " [1.62523737e-02 1.94978134e-04 9.83552648e-01]\n",
            " [9.89197447e-01 6.21507522e-03 4.58747764e-03]\n",
            " [9.39536499e-01 3.68948679e-03 5.67740138e-02]\n",
            " [1.38585600e-03 9.98614127e-01 1.74752302e-08]\n",
            " [9.76975581e-01 4.12147719e-03 1.89029416e-02]\n",
            " [1.52219234e-01 8.47232379e-01 5.48387071e-04]\n",
            " [2.58896578e-03 9.97410711e-01 3.23208328e-07]]\n"
          ]
        },
        {
          "output_type": "stream",
          "name": "stderr",
          "text": [
            "/usr/local/lib/python3.7/dist-packages/sklearn/linear_model/_logistic.py:818: ConvergenceWarning: lbfgs failed to converge (status=1):\n",
            "STOP: TOTAL NO. of ITERATIONS REACHED LIMIT.\n",
            "\n",
            "Increase the number of iterations (max_iter) or scale the data as shown in:\n",
            "    https://scikit-learn.org/stable/modules/preprocessing.html\n",
            "Please also refer to the documentation for alternative solver options:\n",
            "    https://scikit-learn.org/stable/modules/linear_model.html#logistic-regression\n",
            "  extra_warning_msg=_LOGISTIC_SOLVER_CONVERGENCE_MSG,\n"
          ]
        }
      ]
    },
    {
      "cell_type": "code",
      "source": [
        "models = [('Decision Tree', DecisionTreeClassifier()),\n",
        "         ('KNN', KNeighborsClassifier()),\n",
        "         ('Naive Bayes', GaussianNB())]\n",
        "for name, model in models:\n",
        "    model.fit(X_train, y_train)\n",
        "    \n",
        "    prediction = model.predict(X_test)\n",
        "    score = accuracy_score(y_test, prediction)\n",
        "    print('{} Model Accuracy: {}'.format(name,score))"
      ],
      "metadata": {
        "colab": {
          "base_uri": "https://localhost:8080/"
        },
        "id": "-7cODzGssJY-",
        "outputId": "808ee4f1-917a-4aab-83cf-e5e1dd095897"
      },
      "execution_count": 105,
      "outputs": [
        {
          "output_type": "stream",
          "name": "stdout",
          "text": [
            "Decision Tree Model Accuracy: 0.9682539682539683\n",
            "KNN Model Accuracy: 0.9682539682539683\n",
            "Naive Bayes Model Accuracy: 0.9841269841269841\n"
          ]
        }
      ]
    },
    {
      "cell_type": "markdown",
      "source": [
        "#3 Weighted Average"
      ],
      "metadata": {
        "id": "nT2LGSv-g-8A"
      }
    },
    {
      "cell_type": "code",
      "source": [
        "model1 = tree.DecisionTreeClassifier()\n",
        "model2 = KNeighborsClassifier()\n",
        "model3 = LogisticRegression()\n",
        "\n",
        "model1.fit(X_train,y_train)\n",
        "model2.fit(X_train,y_train)\n",
        "model3.fit(X_train,y_train)\n",
        "\n",
        "pred1 = model1.predict_proba(X_test)\n",
        "pred2 = model2.predict_proba(X_test)\n",
        "prad3 = model3.predict_proba(X_test)\n",
        "\n",
        "finalpred = (pred1*0.3 + pred2*0.3 + pred3*0.4)\n",
        "print('The Finalpred is:\\n',finalpred)"
      ],
      "metadata": {
        "colab": {
          "base_uri": "https://localhost:8080/"
        },
        "id": "TXlDhqPeg_9f",
        "outputId": "313778bf-ac0f-414a-a6ce-e11389f52da0"
      },
      "execution_count": 106,
      "outputs": [
        {
          "output_type": "stream",
          "name": "stdout",
          "text": [
            "The Finalpred is:\n",
            " [[3.68091184e-01 3.51546517e-04 6.31557270e-01]\n",
            " [1.24480516e-02 1.17232505e-05 9.87540225e-01]\n",
            " [7.94999792e-01 1.36617526e-04 2.04863591e-01]\n",
            " [2.63994385e-01 3.07729425e-04 7.35697885e-01]\n",
            " [1.93601863e-02 9.80639721e-01 9.27050226e-08]\n",
            " [8.72502869e-01 4.37150547e-04 1.27059981e-01]\n",
            " [3.90776674e-04 1.26158380e-06 9.99607962e-01]\n",
            " [1.12507777e-04 9.99887492e-01 4.07101726e-10]\n",
            " [1.77151066e-03 9.76498958e-07 9.98227513e-01]\n",
            " [3.99884872e-03 1.62359947e-05 9.95984915e-01]\n",
            " [9.93174689e-04 9.99006825e-01 5.68660549e-10]\n",
            " [2.10411890e-03 9.97895513e-01 3.68570795e-07]\n",
            " [5.95239023e-03 9.94047590e-01 2.01768646e-08]\n",
            " [9.79457366e-01 4.00381310e-03 1.65388212e-02]\n",
            " [3.79940172e-02 9.61741228e-01 2.64754377e-04]\n",
            " [8.00691289e-01 1.98336084e-01 9.72627001e-04]\n",
            " [2.25836928e-01 7.56011991e-04 7.73407060e-01]\n",
            " [3.51283074e-02 9.64855938e-01 1.57545269e-05]\n",
            " [8.64722943e-01 7.12195554e-04 1.34564861e-01]\n",
            " [1.48752519e-02 7.01145138e-05 9.85054634e-01]\n",
            " [1.58140590e-01 8.40732562e-01 1.12684761e-03]\n",
            " [3.12202827e-01 6.74014802e-01 1.37823711e-02]\n",
            " [4.60709399e-03 9.95392833e-01 7.27407920e-08]\n",
            " [1.57016306e-01 8.42045489e-01 9.38204940e-04]\n",
            " [7.61062926e-03 9.14980225e-06 9.92380221e-01]\n",
            " [3.32315603e-01 1.23838300e-03 6.66446014e-01]\n",
            " [9.76553556e-03 9.90234298e-01 1.65983561e-07]\n",
            " [4.51647725e-01 2.34047773e-03 5.46011798e-01]\n",
            " [9.93748857e-01 4.51621498e-03 1.73492833e-03]\n",
            " [9.77224243e-01 2.26957974e-02 7.99594387e-05]\n",
            " [1.62709784e-01 4.40719317e-04 8.36849496e-01]\n",
            " [9.71156345e-01 2.32028907e-02 5.64076460e-03]\n",
            " [1.73643283e-02 1.69926421e-04 9.82465745e-01]\n",
            " [5.02896371e-02 1.08909131e-04 9.49601454e-01]\n",
            " [2.67086407e-02 9.73291021e-01 3.38626813e-07]\n",
            " [2.80011372e-04 1.10900669e-06 9.99718880e-01]\n",
            " [1.55491346e-04 7.23310487e-07 9.99843785e-01]\n",
            " [2.92791086e-02 2.90440245e-04 9.70430451e-01]\n",
            " [1.10831491e-02 1.91547625e-05 9.88897696e-01]\n",
            " [3.10320215e-03 9.96896739e-01 5.91093014e-08]\n",
            " [2.46428421e-02 9.75356674e-01 4.84182081e-07]\n",
            " [9.94049441e-01 3.16687503e-03 2.78368353e-03]\n",
            " [2.54336762e-03 9.97456609e-01 2.34653899e-08]\n",
            " [2.92272120e-03 9.97077277e-01 1.86975430e-09]\n",
            " [9.32952134e-01 1.62274773e-02 5.08203882e-02]\n",
            " [7.47292726e-03 7.39389505e-06 9.92519679e-01]\n",
            " [5.13420081e-01 1.46485944e-03 4.85115059e-01]\n",
            " [2.78938355e-01 1.21544244e-03 7.19846203e-01]\n",
            " [1.76889790e-03 5.45308757e-06 9.98225649e-01]\n",
            " [2.06214152e-03 9.97937844e-01 1.46150780e-08]\n",
            " [9.22476390e-01 4.09715182e-02 3.65520914e-02]\n",
            " [1.53567893e-03 4.86913368e-06 9.98459452e-01]\n",
            " [1.42075364e-02 1.36619770e-05 9.85778802e-01]\n",
            " [1.35663209e-04 3.75559413e-07 9.99863961e-01]\n",
            " [9.87584474e-01 7.77976018e-03 4.63576589e-03]\n",
            " [1.18766593e-01 4.92243884e-04 8.80741163e-01]\n",
            " [1.95028484e-02 2.33973761e-04 9.80263178e-01]\n",
            " [9.87036937e-01 7.45809026e-03 5.50497317e-03]\n",
            " [9.27443799e-01 4.42738414e-03 6.81288166e-02]\n",
            " [1.66302720e-03 9.98336952e-01 2.09702763e-08]\n",
            " [9.72370697e-01 4.94577263e-03 2.26835299e-02]\n",
            " [1.62663081e-01 8.36678854e-01 6.58064485e-04]\n",
            " [3.10675894e-03 9.96892853e-01 3.87849993e-07]]\n"
          ]
        },
        {
          "output_type": "stream",
          "name": "stderr",
          "text": [
            "/usr/local/lib/python3.7/dist-packages/sklearn/linear_model/_logistic.py:818: ConvergenceWarning: lbfgs failed to converge (status=1):\n",
            "STOP: TOTAL NO. of ITERATIONS REACHED LIMIT.\n",
            "\n",
            "Increase the number of iterations (max_iter) or scale the data as shown in:\n",
            "    https://scikit-learn.org/stable/modules/preprocessing.html\n",
            "Please also refer to the documentation for alternative solver options:\n",
            "    https://scikit-learn.org/stable/modules/linear_model.html#logistic-regression\n",
            "  extra_warning_msg=_LOGISTIC_SOLVER_CONVERGENCE_MSG,\n"
          ]
        }
      ]
    },
    {
      "cell_type": "code",
      "source": [
        "# evaluate a weighted average ensemble for classification\n",
        "from sklearn.datasets import make_classification\n",
        "from sklearn.model_selection import train_test_split\n",
        "from sklearn.metrics import accuracy_score\n",
        "from sklearn.linear_model import LogisticRegression\n",
        "from sklearn.tree import DecisionTreeClassifier\n",
        "from sklearn.naive_bayes import GaussianNB\n",
        "from sklearn.ensemble import VotingClassifier\n",
        "from sklearn.neighbors import KNeighborsClassifier\n",
        " \n"
      ],
      "metadata": {
        "id": "9k-lDCvum4k-"
      },
      "execution_count": 107,
      "outputs": []
    },
    {
      "cell_type": "code",
      "source": [
        "# get a list of base models\n",
        "def get_models():\n",
        "\tmodels = list()\n",
        "\tmodels.append(('lr', LogisticRegression()))\n",
        "\tmodels.append(('cart', DecisionTreeClassifier()))\n",
        "\tmodels.append(('bayes', GaussianNB()))\n",
        "\treturn models\n",
        " \n",
        "# evaluate each base model\n",
        "def evaluate_models(models, X_train, X_test, y_train, y_test):\n",
        "\t# fit and evaluate the models\n",
        "\tscores = list()\n",
        "\tfor name, model in models:\n",
        "\t\t# fit the model\n",
        "\t\tmodel.fit(X_train, y_train)\n",
        "\t\t# evaluate the model\n",
        "\t\ty_pred = model.predict(X_test)\n",
        "\t\tacc = accuracy_score(y_test, y_pred)\n",
        "\t\t# store the performance\n",
        "\t\tscores.append(acc)\n",
        "\t\t# report model performance\n",
        "\treturn scores\n",
        "\n",
        "# create the base models\n",
        "models = get_models()\n",
        " \n",
        "# fit and evaluate each model\n",
        "scores = evaluate_models(models, X_train, X_test, y_train, y_test)\n",
        "print(scores)\n",
        "# create the ensemble\n",
        "ensemble = VotingClassifier(estimators=models, voting='soft', weights=scores)\n",
        "# fit the ensemble on the training dataset\n",
        "ensemble.fit(X_train, y_train)\n",
        "# make predictions on test set\n",
        "y_pred = ensemble.predict(X_test)\n",
        "# evaluate predictions\n",
        "score = accuracy_score(y_test, y_pred)\n",
        "print('Weighted Avg Accuracy: %.3f' % (score))"
      ],
      "metadata": {
        "colab": {
          "base_uri": "https://localhost:8080/"
        },
        "id": "zUZnLbF4nWrE",
        "outputId": "4ee6a9d7-83b8-4d95-fa3e-c81e3e32fb4d"
      },
      "execution_count": 108,
      "outputs": [
        {
          "output_type": "stream",
          "name": "stderr",
          "text": [
            "/usr/local/lib/python3.7/dist-packages/sklearn/linear_model/_logistic.py:818: ConvergenceWarning: lbfgs failed to converge (status=1):\n",
            "STOP: TOTAL NO. of ITERATIONS REACHED LIMIT.\n",
            "\n",
            "Increase the number of iterations (max_iter) or scale the data as shown in:\n",
            "    https://scikit-learn.org/stable/modules/preprocessing.html\n",
            "Please also refer to the documentation for alternative solver options:\n",
            "    https://scikit-learn.org/stable/modules/linear_model.html#logistic-regression\n",
            "  extra_warning_msg=_LOGISTIC_SOLVER_CONVERGENCE_MSG,\n"
          ]
        },
        {
          "output_type": "stream",
          "name": "stdout",
          "text": [
            "[0.9841269841269841, 0.9206349206349206, 0.9841269841269841]\n",
            "Weighted Avg Accuracy: 1.000\n"
          ]
        },
        {
          "output_type": "stream",
          "name": "stderr",
          "text": [
            "/usr/local/lib/python3.7/dist-packages/sklearn/linear_model/_logistic.py:818: ConvergenceWarning: lbfgs failed to converge (status=1):\n",
            "STOP: TOTAL NO. of ITERATIONS REACHED LIMIT.\n",
            "\n",
            "Increase the number of iterations (max_iter) or scale the data as shown in:\n",
            "    https://scikit-learn.org/stable/modules/preprocessing.html\n",
            "Please also refer to the documentation for alternative solver options:\n",
            "    https://scikit-learn.org/stable/modules/linear_model.html#logistic-regression\n",
            "  extra_warning_msg=_LOGISTIC_SOLVER_CONVERGENCE_MSG,\n"
          ]
        }
      ]
    }
  ]
}